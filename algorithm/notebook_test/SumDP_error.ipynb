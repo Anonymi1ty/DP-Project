{
 "cells": [
  {
   "cell_type": "markdown",
   "metadata": {},
   "source": [
    "## Viewing Experimental Error and Theoretical Error\n",
    "\n",
    "If the average experimental error is roughly of the same order of magnitude as the theoretically estimated upper bound with a constant factor, or even slightly lower, this is usually reasonable.\n",
    "\n",
    "The theoretical error upper bound $ O(\\text{Max}(D) \\cdot \\ln(\\log U)/\\varepsilon) $ is itself a worst-case bound, taking into account all adverse scenarios; however, real-world data often does not reach such worst-case conditions, so the actual error is typically lower than the theoretically estimated bound.\n"
   ]
  },
  {
   "cell_type": "code",
   "execution_count": 1,
   "metadata": {},
   "outputs": [],
   "source": [
    "import sys\n",
    "import os\n",
    "\n",
    "# 设置运行路径\n",
    "sys.path.append(os.path.abspath('../../'))\n",
    "\n",
    "# 导入所需模块\n",
    "from algorithm.sum_dp_module import SumDP\n",
    "from algorithm.error_evaluation.SumDP_eva import SumDPExperiment\n",
    "import numpy as np\n",
    "import math"
   ]
  },
  {
   "cell_type": "code",
   "execution_count": 2,
   "metadata": {},
   "outputs": [
    {
     "name": "stdout",
     "output_type": "stream",
     "text": [
      "true_sum: 524366\n",
      "SumDP Noisy estimation: 522557.43708283955\n",
      "Selected clipping threshold τ: 1024\n",
      "Sum with added noise for each subdomain:\n",
      "  Subdomain j=0: 1.98\n",
      "  Subdomain j=1: -1.63\n",
      "  Subdomain j=2: 28.81\n",
      "  Subdomain j=3: 43.52\n",
      "  Subdomain j=4: 88.36\n",
      "  Subdomain j=5: 447.95\n",
      "  Subdomain j=6: 1865.63\n",
      "  Subdomain j=7: 6400.64\n",
      "  Subdomain j=8: 22457.39\n",
      "  Subdomain j=9: 82195.19\n",
      "  Subdomain j=10: 409029.61\n",
      "\n",
      "Average experimental absolute error after 1000 trials: 1258.42\n",
      "Theoretical error upper bound estimation: 14359.99\n"
     ]
    }
   ],
   "source": [
    "# 设定参数\n",
    "epsilon = 1.0\n",
    "beta = 0.1\n",
    "U = 2 ** 10  # 例如 U = 1024\n",
    "\n",
    "# 创建 SumDP 算法实例\n",
    "sumdp = SumDP(epsilon, beta, U)\n",
    "\n",
    "# 生成模拟数据，例如 1000 个样本，取值范围 [0, U]\n",
    "np.random.seed(42)\n",
    "x_list = np.random.randint(0, U + 1, size=1000).tolist()\n",
    "\n",
    "# 单次调用算法，查看输出\n",
    "final_estimate, tau, noisy_sums = sumdp.run(x_list)\n",
    "true_sum = sum(x_list)\n",
    "print(\"true_sum:\", true_sum)\n",
    "print(\"SumDP Noisy estimation:\", final_estimate)\n",
    "print(\"Selected clipping threshold τ:\", tau)\n",
    "print(\"Sum with added noise for each subdomain:\")\n",
    "for j in sorted(noisy_sums.keys()):\n",
    "    print(f\"  Subdomain j={j}: {noisy_sums[j]:.2f}\")\n",
    "\n",
    "# 使用实验类计算平均实验误差与理论误差上界\n",
    "experiment = SumDPExperiment(sumdp, x_list)\n",
    "avg_error = experiment.run_experiment(n_trials=1000)\n",
    "theoretical_bound = experiment.theoretical_error_bound()\n",
    "\n",
    "print(\"\\nAverage experimental absolute error after 1000 trials: {:.2f}\".format(avg_error))\n",
    "print(\"Theoretical error upper bound estimation: {:.2f}\".format(theoretical_bound))"
   ]
  }
 ],
 "metadata": {
  "kernelspec": {
   "display_name": "DA",
   "language": "python",
   "name": "python3"
  },
  "language_info": {
   "codemirror_mode": {
    "name": "ipython",
    "version": 3
   },
   "file_extension": ".py",
   "mimetype": "text/x-python",
   "name": "python",
   "nbconvert_exporter": "python",
   "pygments_lexer": "ipython3",
   "version": "3.10.15"
  }
 },
 "nbformat": 4,
 "nbformat_minor": 2
}
