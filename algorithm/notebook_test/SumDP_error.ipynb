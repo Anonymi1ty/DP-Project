{
 "cells": [
  {
   "cell_type": "markdown",
   "metadata": {},
   "source": [
    "## 查看实验error和理论error \n",
    "\n",
    "如果平均实验误差与理论上用常数因子估计的上界大致处于同一数量级，甚至略低，这通常是合理的。\n",
    "\n",
    "理论误差上界$ O(Max(D)·ln(log U)/ε) $本身是一个最坏情况的上界，考虑了所有不利情况；而实际数据往往没有达到这种最坏情况，因此实际误差通常会低于理论上估计的上界。"
   ]
  },
  {
   "cell_type": "code",
   "execution_count": 3,
   "metadata": {},
   "outputs": [],
   "source": [
    "import sys\n",
    "import os\n",
    "\n",
    "# 设置运行路径\n",
    "sys.path.append(os.path.abspath('../../'))\n",
    "\n",
    "# 导入所需模块\n",
    "from algorithm.sum_dp_module import SumDP\n",
    "from algorithm.error_evaluation.SumDP_eva import SumDPExperiment\n",
    "import numpy as np\n",
    "import math"
   ]
  },
  {
   "cell_type": "code",
   "execution_count": 4,
   "metadata": {},
   "outputs": [
    {
     "name": "stdout",
     "output_type": "stream",
     "text": [
      "真实总和: 524366\n",
      "SumDP 加噪估计: 522557.43708283955\n",
      "选定剪切阈值 τ: 1024\n",
      "各子域加噪和:\n",
      "  子域 j=0: 1.98\n",
      "  子域 j=1: -1.63\n",
      "  子域 j=2: 28.81\n",
      "  子域 j=3: 43.52\n",
      "  子域 j=4: 88.36\n",
      "  子域 j=5: 447.95\n",
      "  子域 j=6: 1865.63\n",
      "  子域 j=7: 6400.64\n",
      "  子域 j=8: 22457.39\n",
      "  子域 j=9: 82195.19\n",
      "  子域 j=10: 409029.61\n",
      "\n",
      "经过 1000 次实验，平均实验绝对误差: 1258.42\n",
      "理论误差上界估计: 14359.99\n"
     ]
    }
   ],
   "source": [
    "# 设定参数\n",
    "epsilon = 1.0\n",
    "beta = 0.1\n",
    "U = 2 ** 10  # 例如 U = 1024\n",
    "\n",
    "# 创建 SumDP 算法实例\n",
    "sumdp = SumDP(epsilon, beta, U)\n",
    "\n",
    "# 生成模拟数据，例如 1000 个样本，取值范围 [0, U]\n",
    "np.random.seed(42)\n",
    "x_list = np.random.randint(0, U + 1, size=1000).tolist()\n",
    "\n",
    "# 单次调用算法，查看输出\n",
    "final_estimate, tau, noisy_sums = sumdp.run(x_list)\n",
    "true_sum = sum(x_list)\n",
    "print(\"真实总和:\", true_sum)\n",
    "print(\"SumDP 加噪估计:\", final_estimate)\n",
    "print(\"选定剪切阈值 τ:\", tau)\n",
    "print(\"各子域加噪和:\")\n",
    "for j in sorted(noisy_sums.keys()):\n",
    "    print(f\"  子域 j={j}: {noisy_sums[j]:.2f}\")\n",
    "\n",
    "# 使用实验类计算平均实验误差与理论误差上界\n",
    "experiment = SumDPExperiment(sumdp, x_list)\n",
    "avg_error = experiment.run_experiment(n_trials=1000)\n",
    "theoretical_bound = experiment.theoretical_error_bound()\n",
    "\n",
    "print(\"\\n经过 1000 次实验，平均实验绝对误差: {:.2f}\".format(avg_error))\n",
    "print(\"理论误差上界估计: {:.2f}\".format(theoretical_bound))"
   ]
  }
 ],
 "metadata": {
  "kernelspec": {
   "display_name": "lux-s3",
   "language": "python",
   "name": "python3"
  },
  "language_info": {
   "codemirror_mode": {
    "name": "ipython",
    "version": 3
   },
   "file_extension": ".py",
   "mimetype": "text/x-python",
   "name": "python",
   "nbconvert_exporter": "python",
   "pygments_lexer": "ipython3",
   "version": "3.11.0"
  }
 },
 "nbformat": 4,
 "nbformat_minor": 2
}
